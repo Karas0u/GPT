{
 "cells": [
  {
   "cell_type": "code",
   "execution_count": 1,
   "id": "729bbf6a-bc3b-4039-868a-799637fedfeb",
   "metadata": {},
   "outputs": [],
   "source": [
    "import os\n",
    "import json\n",
    "from openai import OpenAI\n",
    "import requests"
   ]
  },
  {
   "cell_type": "code",
   "execution_count": 2,
   "id": "91f2aa41-4944-412e-a83d-1a738338e3a0",
   "metadata": {},
   "outputs": [],
   "source": [
    "client = OpenAI(\n",
    "    api_key = 'sk-proj-IiVjJx2eXk4wp6ROc3HxT3BlbkFJwXA9l2qEWVuS3DTRTrpB'\n",
    "  )"
   ]
  },
  {
   "cell_type": "code",
   "execution_count": 3,
   "id": "0b9d5ab5-15f2-4dd3-b47b-26a453b0c690",
   "metadata": {
    "scrolled": true
   },
   "outputs": [
    {
     "name": "stdout",
     "output_type": "stream",
     "text": [
      "I can't provide real-time data, including the current stock price of Google (now Alphabet Inc., traded under the tickers GOOGL and GOOG). To find up-to-date stock prices, you can check financial news websites, stock market apps, or financial search engines like Google Finance, Yahoo Finance, or Bloomberg.\n"
     ]
    }
   ],
   "source": [
    "finchat_completion = client.chat.completions.create(\n",
    "    messages=[\n",
    "        {\n",
    "            \"role\": \"user\",\n",
    "            \"content\": \"what are the stock price of Google right now\",\n",
    "        }\n",
    "    ],\n",
    "    model=\"gpt-4o\",\n",
    ")\n",
    "print(finchat_completion.choices[0].message.content)"
   ]
  },
  {
   "cell_type": "code",
   "execution_count": 4,
   "id": "73a81bd7-72fa-42de-b4dd-20b2847d1faf",
   "metadata": {},
   "outputs": [],
   "source": [
    "finfunctions = [\n",
    "    {\n",
    "        \"name\": \"get_stock_price\",\n",
    "        \"description\": \"Get the stock price of a given company for the given period.\",\n",
    "        \"parameters\": {\n",
    "            \"type\": \"object\",\n",
    "            \"properties\": {\n",
    "                \"company_name\": {\n",
    "                    \"type\": \"string\",\n",
    "                    \"description\": \"company name mentioned in text. e.g., Microsoft, Google\"\n",
    "                },\n",
    "                \"periods\": {\n",
    "                    \"type\": \"string\",\n",
    "                    \"description\": \"How old should the stock price data be? e.g., for query:- give me stock price of given company, output should be 1d. for query:- give me current stock price of given company, output should be 1d. for query:- give me yesturdays stock price of given company , output should be 1d. for query:- give me stock of given company of 2 year in past, output should be 2y. for query:- give me stock of given company of 1 year in past, output should be 1y. for query:- give me stock of given company of 5 year in past, output should be 5y. for query:- give me stock of given company of 10 year in past, output should be 10y. for query:- give me stock of given company of 1 month in past, output should be 1mo. for query:- give me stock of given company of 3 month in past, output should be 3mo. for query:- give me stock of given company of 6 month in past, output should be 6mo. for query:- give me stock of given company of 5 day in past, output should be 5d. for query:- give me stock of given company of 1 day in past, output should be 1d.\"\n",
    "                }\n",
    "            },\n",
    "            \"required\": [\"ticker\", \"periods\"]\n",
    "        }\n",
    "    }\n",
    "]"
   ]
  },
  {
   "cell_type": "code",
   "execution_count": 5,
   "id": "f7e5ba28-1f1b-4e59-996c-65ecc80c1fc5",
   "metadata": {},
   "outputs": [],
   "source": [
    "fin_prompt = 'what is the stock price of Google today?'"
   ]
  },
  {
   "cell_type": "code",
   "execution_count": 6,
   "id": "e2b91fb8-63c6-42ba-9f74-bdde107b1302",
   "metadata": {},
   "outputs": [
    {
     "name": "stdout",
     "output_type": "stream",
     "text": [
      "ChatCompletion(id='chatcmpl-9UDmbWrEU1zdKazwDgG7dh3LSHhNY', choices=[Choice(finish_reason='function_call', index=0, logprobs=None, message=ChatCompletionMessage(content=None, role='assistant', function_call=FunctionCall(arguments='{\"company_name\":\"Google\",\"periods\":\"1d\"}', name='get_stock_price'), tool_calls=None))], created=1716989849, model='gpt-4o-2024-05-13', object='chat.completion', system_fingerprint='fp_43dfabdef1', usage=CompletionUsage(completion_tokens=22, prompt_tokens=358, total_tokens=380))\n"
     ]
    }
   ],
   "source": [
    "finchat_completion_after_functioncall = client.chat.completions.create(\n",
    "    messages=[\n",
    "        {\n",
    "            \"role\": \"user\",\n",
    "            \"content\": fin_prompt,\n",
    "        }\n",
    "    ],\n",
    "    model = \"gpt-4o\",\n",
    "    functions = finfunctions,\n",
    "    function_call = \"auto\",\n",
    ")\n",
    "print(finchat_completion_after_functioncall)"
   ]
  },
  {
   "cell_type": "code",
   "execution_count": 7,
   "id": "b070f46e-7efe-4424-a48e-84cc53e5a530",
   "metadata": {},
   "outputs": [],
   "source": [
    "import yfinance as yf\n",
    "\n",
    "def get_stock_price(company_name, periods):\n",
    "    yfinance = \"https://query2.finance.yahoo.com/v1/finance/search\"\n",
    "    user_agent = 'Mozilla/5.0 (Windows NT 10.0; Win64; x64) AppleWebKit/537.36 (KHTML, like Gecko) Chrome/108.0.0.0 Safari/537.36'\n",
    "    params = {\"q\": company_name, \"quotes_count\": 1, \"country\": \"USA\"}\n",
    "\n",
    "    res = requests.get(url=yfinance, params=params, headers={'User-Agent': user_agent})\n",
    "    data = res.json()\n",
    "\n",
    "    company_code = data['quotes'][0]['symbol']\n",
    "    \n",
    "    stock = yf.Ticker(company_code)\n",
    "    todays_data = stock.history(period=periods)\n",
    "    currency = stock.info['currency']\n",
    "\n",
    "    stock_info = {\n",
    "        \"stock_price\": (todays_data['Close'][0] + todays_data['Open'][0])/2,\n",
    "        \"period\": periods,\n",
    "        \"trade_currency\": currency,\n",
    "    }\n",
    "    \n",
    "    return json.dumps(stock_info)"
   ]
  },
  {
   "cell_type": "code",
   "execution_count": 8,
   "id": "2ef3e3ab-99e6-49cd-9262-760294599384",
   "metadata": {},
   "outputs": [
    {
     "data": {
      "text/plain": [
       "ChatCompletion(id='chatcmpl-9UDmbWrEU1zdKazwDgG7dh3LSHhNY', choices=[Choice(finish_reason='function_call', index=0, logprobs=None, message=ChatCompletionMessage(content=None, role='assistant', function_call=FunctionCall(arguments='{\"company_name\":\"Google\",\"periods\":\"1d\"}', name='get_stock_price'), tool_calls=None))], created=1716989849, model='gpt-4o-2024-05-13', object='chat.completion', system_fingerprint='fp_43dfabdef1', usage=CompletionUsage(completion_tokens=22, prompt_tokens=358, total_tokens=380))"
      ]
     },
     "execution_count": 8,
     "metadata": {},
     "output_type": "execute_result"
    }
   ],
   "source": [
    "finchat_completion_after_functioncall"
   ]
  },
  {
   "cell_type": "code",
   "execution_count": 9,
   "id": "fc2c745c-8598-4043-aefb-17ebda67bbad",
   "metadata": {},
   "outputs": [
    {
     "name": "stdout",
     "output_type": "stream",
     "text": [
      "ChatCompletionMessage(content=None, role='assistant', function_call=FunctionCall(arguments='{\"company_name\":\"Google\",\"periods\":\"1d\"}', name='get_stock_price'), tool_calls=None)\n"
     ]
    }
   ],
   "source": [
    "finoutput = finchat_completion_after_functioncall.choices[0].message\n",
    "print(finoutput)"
   ]
  },
  {
   "cell_type": "code",
   "execution_count": 10,
   "id": "bb934205-535c-4bad-9cc3-44a20eb1142c",
   "metadata": {},
   "outputs": [
    {
     "name": "stdout",
     "output_type": "stream",
     "text": [
      "Google\n"
     ]
    }
   ],
   "source": [
    "tickersymbol = json.loads(finoutput.function_call.arguments).get(\"company_name\")\n",
    "print(tickersymbol)"
   ]
  },
  {
   "cell_type": "code",
   "execution_count": 11,
   "id": "a1343793-3579-4765-882d-60fb7b7b8b38",
   "metadata": {},
   "outputs": [
    {
     "data": {
      "text/plain": [
       "{'company_name': 'Google', 'periods': '1d'}"
      ]
     },
     "execution_count": 11,
     "metadata": {},
     "output_type": "execute_result"
    }
   ],
   "source": [
    "finparams = json.loads(finoutput.function_call.arguments)\n",
    "finparams"
   ]
  },
  {
   "cell_type": "code",
   "execution_count": 12,
   "id": "08d18f78-3ad1-4d27-a1fe-9ef3c3cbb95a",
   "metadata": {},
   "outputs": [
    {
     "name": "stdout",
     "output_type": "stream",
     "text": [
      "<function get_stock_price at 0x00000291F25865C0> {\"stock_price\": 176.86019897460938, \"period\": \"1d\", \"trade_currency\": \"USD\"}\n"
     ]
    },
    {
     "name": "stderr",
     "output_type": "stream",
     "text": [
      "C:\\Users\\SURINDER\\AppData\\Local\\Temp\\ipykernel_15028\\1540998670.py:18: FutureWarning: Series.__getitem__ treating keys as positions is deprecated. In a future version, integer keys will always be treated as labels (consistent with DataFrame behavior). To access a value by position, use `ser.iloc[pos]`\n",
      "  \"stock_price\": (todays_data['Close'][0] + todays_data['Open'][0])/2,\n"
     ]
    }
   ],
   "source": [
    "chosen_finfunction = eval(finoutput.function_call.name)\n",
    "stockprice_param = chosen_finfunction(**finparams)\n",
    "print(chosen_finfunction,stockprice_param)"
   ]
  },
  {
   "cell_type": "code",
   "execution_count": 13,
   "id": "15efe1cd-3df5-49ab-b470-b54dfc895219",
   "metadata": {},
   "outputs": [
    {
     "name": "stdout",
     "output_type": "stream",
     "text": [
      "The stock price of Google today is $176.86 USD.\n"
     ]
    }
   ],
   "source": [
    "finchat_completion_stockprice = client.chat.completions.create(\n",
    "    messages=[\n",
    "        {\n",
    "            \"role\": \"user\",\n",
    "            \"content\": fin_prompt,\n",
    "        },\n",
    "        {\n",
    "            \"role\": \"function\",\n",
    "            \"name\": finoutput.function_call.name,\n",
    "            \"content\": stockprice_param\n",
    "        }\n",
    "    ],\n",
    "    model = \"gpt-3.5-turbo\",\n",
    "    functions = finfunctions,\n",
    "    function_call = \"auto\",\n",
    ")\n",
    "print(finchat_completion_stockprice.choices[0].message.content)"
   ]
  },
  {
   "cell_type": "code",
   "execution_count": 79,
   "id": "1163418d-9cb8-49d0-8079-ebf01e9c337f",
   "metadata": {},
   "outputs": [
    {
     "name": "stdout",
     "output_type": "stream",
     "text": [
      "                                 Open        High         Low       Close  \\\n",
      "Date                                                                        \n",
      "2024-05-21 00:00:00-04:00  178.399994  179.820007  177.309998  179.539993   \n",
      "\n",
      "                             Volume  Dividends  Stock Splits  \n",
      "Date                                                          \n",
      "2024-05-21 00:00:00-04:00  14697100        0.0           0.0  \n"
     ]
    }
   ],
   "source": [
    "import yfinance as yf\n",
    "\n",
    "tickerSymbol = 'GOOG'\n",
    "tickerData = yf.Ticker(tickerSymbol)\n",
    "tickerDf = tickerData.history(period='1d')\n",
    "\n",
    "print(tickerDf)"
   ]
  },
  {
   "cell_type": "code",
   "execution_count": 80,
   "id": "a85087c1-819d-430a-9884-c94dacce8833",
   "metadata": {},
   "outputs": [],
   "source": [
    "import requests\n",
    "def get_ticker(company_name):\n",
    "    yfinance = \"https://query2.finance.yahoo.com/v1/finance/search\"\n",
    "    user_agent = 'Mozilla/5.0 (Windows NT 10.0; Win64; x64) AppleWebKit/537.36 (KHTML, like Gecko) Chrome/108.0.0.0 Safari/537.36'\n",
    "    params = {\"q\": company_name, \"quotes_count\": 1, \"country\": \"United States\"}\n",
    "\n",
    "    res = requests.get(url=yfinance, params=params, headers={'User-Agent': user_agent})\n",
    "    data = res.json()\n",
    "\n",
    "    company_code = data['quotes'][0]['symbol']\n",
    "    return company_code"
   ]
  },
  {
   "cell_type": "code",
   "execution_count": 83,
   "id": "f86579fd-83bf-4dd6-9e6b-26ba568e13c5",
   "metadata": {},
   "outputs": [
    {
     "data": {
      "text/plain": [
       "'MARUTI.NS'"
      ]
     },
     "execution_count": 83,
     "metadata": {},
     "output_type": "execute_result"
    }
   ],
   "source": [
    "get_ticker(\"Maruti Suzuki\")"
   ]
  },
  {
   "cell_type": "code",
   "execution_count": null,
   "id": "695631e5-76bb-4de8-8ab2-f263603a57e4",
   "metadata": {},
   "outputs": [],
   "source": []
  }
 ],
 "metadata": {
  "kernelspec": {
   "display_name": "Python 3 (ipykernel)",
   "language": "python",
   "name": "python3"
  },
  "language_info": {
   "codemirror_mode": {
    "name": "ipython",
    "version": 3
   },
   "file_extension": ".py",
   "mimetype": "text/x-python",
   "name": "python",
   "nbconvert_exporter": "python",
   "pygments_lexer": "ipython3",
   "version": "3.11.7"
  }
 },
 "nbformat": 4,
 "nbformat_minor": 5
}
