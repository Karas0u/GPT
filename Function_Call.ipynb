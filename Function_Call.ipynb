{
 "cells": [
  {
   "cell_type": "code",
   "execution_count": 1,
   "id": "d3dec206-7a6b-4025-931c-a046ea887881",
   "metadata": {},
   "outputs": [],
   "source": [
    "import openai\n",
    "import yfinance as yf"
   ]
  },
  {
   "cell_type": "code",
   "execution_count": 5,
   "id": "161ca455-6e0f-4a6f-a130-dc53389939fa",
   "metadata": {},
   "outputs": [],
   "source": [
    "def get_top_profitable_stock_prices():\n",
    "    top_stocks = ['AAPL', 'MSFT', 'GOOGL', 'AMZN', 'TSLA']\n",
    "    \n",
    "    stock_prices = {}\n",
    "    \n",
    "    for stock in top_stocks:\n",
    "        ticker = yf.Ticker(stock)\n",
    "        stock_info = ticker.history(period='1d')\n",
    "        stock_prices[stock] = stock_info['Close'].iloc[-1]\n",
    "    \n",
    "    return stock_prices"
   ]
  },
  {
   "cell_type": "code",
   "execution_count": 6,
   "id": "6ce62a3e-b80b-404d-b107-4f74fec0a82a",
   "metadata": {},
   "outputs": [],
   "source": [
    "def get_openai_response(prompt):\n",
    "    response = openai.Completion.create(\n",
    "        engine=\"text-davinci-003\",\n",
    "        prompt=prompt,\n",
    "        max_tokens=150\n",
    "    )\n",
    "    return response.choices[0].text.strip()"
   ]
  },
  {
   "cell_type": "code",
   "execution_count": 7,
   "id": "2ed07ba2-22e3-4844-aa16-60f8548bd3e3",
   "metadata": {},
   "outputs": [],
   "source": [
    "def financial_advisor_bot(question):\n",
    "    if \"top profitable stock\" in question.lower():\n",
    "        stock_prices = get_top_profitable_stock_prices()\n",
    "        response_text = \"The stock prices of the top profitable stocks right now are:\\n\"\n",
    "        for stock, price in stock_prices.items():\n",
    "            response_text += f\"{stock}: ${price:.2f}\\n\"\n",
    "        return response_text\n",
    "    else:\n",
    "        return get_openai_response(question)"
   ]
  },
  {
   "cell_type": "code",
   "execution_count": 8,
   "id": "114d52b4-d2f5-473f-9f8c-79424022a0fa",
   "metadata": {},
   "outputs": [
    {
     "name": "stdout",
     "output_type": "stream",
     "text": [
      "The stock prices of the top profitable stocks right now are:\n",
      "AAPL: $189.87\n",
      "MSFT: $420.21\n",
      "GOOGL: $176.06\n",
      "AMZN: $184.70\n",
      "TSLA: $177.46\n",
      "\n"
     ]
    }
   ],
   "source": [
    "question = \"What are the stock prices of top profitable stocks right now?\"\n",
    "response = financial_advisor_bot(question)\n",
    "print(response)"
   ]
  },
  {
   "cell_type": "code",
   "execution_count": null,
   "id": "c8b3defb-45f5-40ab-b7cc-46f6ee41ba30",
   "metadata": {},
   "outputs": [],
   "source": []
  }
 ],
 "metadata": {
  "kernelspec": {
   "display_name": "Python 3 (ipykernel)",
   "language": "python",
   "name": "python3"
  },
  "language_info": {
   "codemirror_mode": {
    "name": "ipython",
    "version": 3
   },
   "file_extension": ".py",
   "mimetype": "text/x-python",
   "name": "python",
   "nbconvert_exporter": "python",
   "pygments_lexer": "ipython3",
   "version": "3.11.7"
  }
 },
 "nbformat": 4,
 "nbformat_minor": 5
}
